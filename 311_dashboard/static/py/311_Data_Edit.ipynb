{
 "cells": [
  {
   "cell_type": "code",
   "execution_count": 1,
   "metadata": {
    "collapsed": false
   },
   "outputs": [],
   "source": [
    "import numpy as np\n",
    "import matplotlib as mpl\n",
    "import matplotlib.pyplot as plt\n",
    "import pandas as pd\n",
    "from datetime import datetime\n",
    "%matplotlib inline"
   ]
  },
  {
   "cell_type": "code",
   "execution_count": 2,
   "metadata": {
    "collapsed": false
   },
   "outputs": [],
   "source": [
    "file = './data311na1.csv'\n",
    "df = pd.read_csv(file)\n",
    "complaint_type_list = np.load('list_names.npy')"
   ]
  },
  {
   "cell_type": "code",
   "execution_count": 3,
   "metadata": {
    "collapsed": false
   },
   "outputs": [],
   "source": [
    "# # convert created date to date object\n",
    "col_to_keep=['data.311.Created.Date','data.311.Agency','data.311.Complaint.Type','data.311.Borough','data.311.Incident.Zip']\n",
    "date_format = '%m/%d/%Y %I:%M:%S %p'\n",
    "df['data.311.Created.Date'] = pd.to_datetime(df['data.311.Created.Date'], format=date_format)\n"
   ]
  },
  {
   "cell_type": "code",
   "execution_count": 4,
   "metadata": {
    "collapsed": false
   },
   "outputs": [],
   "source": [
    "#col_to_keep=['data.311.Created.Date','data.311.Complaint.Type','data.311.Incident.Zip']\n",
    "df = df[col_to_keep]\n",
    "df.columns = ['CreatedDate','Agency','ComplaintType','Borough','ZipCode']\n",
    "#df['CreatedDate'] = df['CreatedDate'].astype('datetime64[ns]')"
   ]
  },
  {
   "cell_type": "code",
   "execution_count": 5,
   "metadata": {
    "collapsed": false
   },
   "outputs": [],
   "source": [
    "complaint_type_list = np.delete(complaint_type_list, 5) # remove illegal parking, missing a year's worth of data"
   ]
  },
  {
   "cell_type": "code",
   "execution_count": 13,
   "metadata": {
    "collapsed": false
   },
   "outputs": [],
   "source": [
    "# filter rows based on complaint types\n",
    "df = df[df['ComplaintType'].isin(complaint_type_list)]"
   ]
  },
  {
   "cell_type": "code",
   "execution_count": null,
   "metadata": {
    "collapsed": true
   },
   "outputs": [],
   "source": [
    "df.to_csv('./311_Data.csv', index=False)"
   ]
  },
  {
   "cell_type": "code",
   "execution_count": null,
   "metadata": {
    "collapsed": true
   },
   "outputs": [],
   "source": []
  }
 ],
 "metadata": {
  "kernelspec": {
   "display_name": "Python 3",
   "language": "python",
   "name": "python3"
  },
  "language_info": {
   "codemirror_mode": {
    "name": "ipython",
    "version": 3
   },
   "file_extension": ".py",
   "mimetype": "text/x-python",
   "name": "python",
   "nbconvert_exporter": "python",
   "pygments_lexer": "ipython3",
   "version": "3.6.0"
  }
 },
 "nbformat": 4,
 "nbformat_minor": 2
}
